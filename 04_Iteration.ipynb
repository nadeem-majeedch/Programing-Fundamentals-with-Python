{
 "cells": [
  {
   "cell_type": "markdown",
   "metadata": {},
   "source": [
    "# Iteration"
   ]
  },
  {
   "cell_type": "code",
   "execution_count": null,
   "metadata": {},
   "outputs": [],
   "source": [
    "# Iteration: Repeated execution of a set of statements using either a recursive function call or a loop."
   ]
  },
  {
   "cell_type": "markdown",
   "metadata": {},
   "source": [
    "## The WHILE statement"
   ]
  },
  {
   "cell_type": "code",
   "execution_count": 4,
   "metadata": {},
   "outputs": [],
   "source": [
    "#It means, “While n is greater than 0, display the value of n and then reduce the value of n by 1. When\n",
    "#you get to 0, exit the while statement and display the word Blastoff!”\n",
    "\n",
    "##Each time we execute the body of the loop, we call it an iteration. The body of the loop was executed five times"
   ]
  },
  {
   "cell_type": "code",
   "execution_count": 2,
   "metadata": {},
   "outputs": [
    {
     "name": "stdout",
     "output_type": "stream",
     "text": [
      "10 5 16 8 4 2\n"
     ]
    }
   ],
   "source": [
    "# The condition for this loop is n != 1, so the loop will continue until n is 1, which makes the condition false\n",
    "\n",
    "def sequence(n):\n",
    "    while n != 1:\n",
    "        print n,\n",
    "        if n%2 == 0:\n",
    "            n = n/2\n",
    "        else:\n",
    "            n = n*3+1\n",
    "sequence(10)"
   ]
  },
  {
   "cell_type": "markdown",
   "metadata": {},
   "source": [
    "### Infinite loops"
   ]
  },
  {
   "cell_type": "code",
   "execution_count": null,
   "metadata": {},
   "outputs": [],
   "source": [
    "# Infinite loop = A loop in which the terminating condition is never satisfied\n",
    "# There is no iteration variable telling you how many times to execute the loop"
   ]
  },
  {
   "cell_type": "code",
   "execution_count": 6,
   "metadata": {},
   "outputs": [],
   "source": [
    "#This loop is obviously an infinite loop:\n",
    "\n",
    "n = 10\n",
    "#while True:\n",
    "    print n,\n",
    "    n = n - 1\n",
    "print ('Done')"
   ]
  },
  {
   "cell_type": "code",
   "execution_count": 4,
   "metadata": {},
   "outputs": [
    {
     "name": "stdout",
     "output_type": "stream",
     "text": [
      "> ali\n",
      "ali\n",
      "> nadeem\n",
      "nadeem\n",
      "> done\n",
      "Done!\n"
     ]
    }
   ],
   "source": [
    "# Add code to the body of the loop to explicitly exit the loop using \"break\" when we have reached the exit condition\n",
    "while True:\n",
    "    line = input('> ')\n",
    "    if line == 'done':\n",
    "        break\n",
    "    print (line)\n",
    "print ('Done!')\n",
    "\n",
    "# The loop condition is True, which is always true, so the loop runs until it hits the break statement"
   ]
  },
  {
   "cell_type": "code",
   "execution_count": 9,
   "metadata": {},
   "outputs": [
    {
     "name": "stdout",
     "output_type": "stream",
     "text": [
      "2.5\n"
     ]
    }
   ],
   "source": [
    "# One way of computing square roots is Newton’s method. Suppose that you want to know the square root of a.\n",
    "# If you start with almost any estimate, x, you can compute a better estimate with the following formula:\n",
    "# y = (x + a/x)/2\n",
    "\n",
    "a = 4.0\n",
    "x = 1.0\n",
    "y = (x + a/x) / 2\n",
    "print (y) # 2.1666, which is closer to the correct answer, 4"
   ]
  },
  {
   "cell_type": "code",
   "execution_count": 10,
   "metadata": {},
   "outputs": [
    {
     "name": "stdout",
     "output_type": "stream",
     "text": [
      "2.05\n"
     ]
    }
   ],
   "source": [
    "# We continue the same way, this estimating x as 2.1666\n",
    "\n",
    "x = y\n",
    "y = (x + a/x) / 2\n",
    "print (y)\n",
    "\n",
    "# The next step woul be assigning x the value 2.0064 etc."
   ]
  },
  {
   "cell_type": "code",
   "execution_count": 11,
   "metadata": {},
   "outputs": [
    {
     "name": "stdout",
     "output_type": "stream",
     "text": [
      "2.5\n",
      "2.05\n",
      "2.000609756097561\n",
      "2.0000000929222947\n",
      "2.000000000000002\n",
      "2.0\n"
     ]
    }
   ],
   "source": [
    "# we don’t know ahead of time how many steps it takes to get to the right answer, \n",
    "# but we know when we get there because the estimate stops changing, so y == x\n",
    "\n",
    "while True:\n",
    "    print (x)\n",
    "    y = (x + a/x) / 2\n",
    "    if y == x:\n",
    "        break\n",
    "    x = y"
   ]
  },
  {
   "cell_type": "code",
   "execution_count": 13,
   "metadata": {},
   "outputs": [
    {
     "name": "stdout",
     "output_type": "stream",
     "text": [
      "True\n",
      "False\n"
     ]
    }
   ],
   "source": [
    "'''A palindrome is a word that is spelled the same backward and forward, like \"noon\" and \"redivider\".'''\n",
    "\n",
    "# Write a function called is_palindrome that takes a string argument and returns True if it is a palindrome and False otherwise.\n",
    "# Method 1: using a while loop\n",
    "\n",
    "def is_palindrome(word):\n",
    "    i = 0\n",
    "    j = len(word)-1\n",
    "    \n",
    "    while i<j:\n",
    "        if word[i] != word[j]:\n",
    "            return False\n",
    "        i = i+1\n",
    "        j = j-1\n",
    "    \n",
    "    return True\n",
    "\n",
    "print (is_palindrome('noon'))\n",
    "print (is_palindrome('book'))"
   ]
  },
  {
   "cell_type": "code",
   "execution_count": 15,
   "metadata": {},
   "outputs": [
    {
     "name": "stdout",
     "output_type": "stream",
     "text": [
      "noon\n",
      "True\n",
      "koob\n",
      "False\n"
     ]
    }
   ],
   "source": [
    "# Method 2: reversing the word\n",
    "\n",
    "def is_palindrome(word):\n",
    "    print(word[::-1])\n",
    "    return word == word[::-1]\n",
    "\n",
    "print (is_palindrome('noon'))\n",
    "print (is_palindrome('book'))"
   ]
  },
  {
   "cell_type": "code",
   "execution_count": 16,
   "metadata": {},
   "outputs": [
    {
     "name": "stdout",
     "output_type": "stream",
     "text": [
      "True\n",
      "False\n"
     ]
    }
   ],
   "source": [
    "# Method 3: using recursion\n",
    "# Recursively, a word is a palindrome if the first and last letters are the same and the middle is a palindrome.\n",
    "\n",
    "def is_palindrome(word):\n",
    "    if len(word) == 0 or len(word) == 1:\n",
    "        return True\n",
    "    else:\n",
    "        return word[0] == word[-1] and is_palindrome(word[1:-1]) # here's where recursion comes in\n",
    "\n",
    "print (is_palindrome('noon'))\n",
    "print (is_palindrome('book'))"
   ]
  },
  {
   "cell_type": "code",
   "execution_count": 18,
   "metadata": {},
   "outputs": [
    {
     "name": "stdout",
     "output_type": "stream",
     "text": [
      "True\n"
     ]
    }
   ],
   "source": [
    "# Method 4: using recursion and a helper function\n",
    "\n",
    "def flip_string(s):\n",
    "    if s == '':\n",
    "        return s\n",
    "    else:\n",
    "        newstring = s[-1]\n",
    "        return newstring + flip_string(s[:-1])\n",
    "\n",
    "def is_palindrome(s):\n",
    "    if flip_string(s) == s:\n",
    "        return True\n",
    "    return False\n",
    "\n",
    "print (is_palindrome('noon'))"
   ]
  },
  {
   "cell_type": "code",
   "execution_count": 19,
   "metadata": {},
   "outputs": [
    {
     "name": "stdout",
     "output_type": "stream",
     "text": [
      "True\n"
     ]
    }
   ],
   "source": [
    "# Method 4 rewritten, shorter\n",
    "\n",
    "def flip_string(s):\n",
    "    return s if s == '' else s[-1] + flip_string(s[:-1])\n",
    "\n",
    "def is_palindrome(s):\n",
    "    return flip_string(s) == s\n",
    "\n",
    "print (is_palindrome('noon'))"
   ]
  },
  {
   "cell_type": "markdown",
   "metadata": {},
   "source": [
    "## The FOR loops"
   ]
  },
  {
   "cell_type": "markdown",
   "metadata": {},
   "source": [
    "### Counting and summing loops"
   ]
  },
  {
   "cell_type": "code",
   "execution_count": 21,
   "metadata": {},
   "outputs": [
    {
     "name": "stdout",
     "output_type": "stream",
     "text": [
      "Count:  6\n"
     ]
    }
   ],
   "source": [
    "# to count the number of items in a list\n",
    "count = 0\n",
    "for i in [3, 41, 12, 9, 74, 15]:\n",
    "    count = count + 1\n",
    "print ('Count: ', count)\n",
    "\n",
    "# in the above example, the iteration variable (i) is not used for any calculation, but it controls the loop"
   ]
  },
  {
   "cell_type": "code",
   "execution_count": 22,
   "metadata": {},
   "outputs": [
    {
     "name": "stdout",
     "output_type": "stream",
     "text": [
      "Total:  154\n"
     ]
    }
   ],
   "source": [
    "# compute the total of a set of numbers\n",
    "total = 0\n",
    "for i in [3, 41, 12, 9, 74, 15]:\n",
    "    total  = total + i\n",
    "print ('Total: ', total)\n",
    "# in this loop, we do use the iteration variable (i)"
   ]
  },
  {
   "cell_type": "markdown",
   "metadata": {},
   "source": [
    "### Maximum and Minimum Loops"
   ]
  },
  {
   "cell_type": "code",
   "execution_count": 23,
   "metadata": {},
   "outputs": [
    {
     "name": "stdout",
     "output_type": "stream",
     "text": [
      "Loop: 3 3\n",
      "Loop: 41 41\n",
      "Loop: 12 41\n",
      "Loop: 9 41\n",
      "Loop: 74 74\n",
      "Loop: 15 74\n",
      "Largest: 74\n"
     ]
    }
   ],
   "source": [
    "# find the largest value in a list\n",
    "\n",
    "largest = None\n",
    "for i in [3, 41, 12, 9, 74, 15]:\n",
    "    if largest is None or i > largest:\n",
    "        largest = i\n",
    "    print ('Loop:', i, largest)\n",
    "print (\"Largest:\", largest)\n",
    "\n",
    "# After the first iteration, largest is no longer None, so the second part of the compound logical expression that checks \n",
    "# i > largest triggers only when we see a value that is larger than the “largest so far”. When we see a new “even larger”\n",
    "# value we take that new value for largest."
   ]
  },
  {
   "cell_type": "code",
   "execution_count": 40,
   "metadata": {},
   "outputs": [
    {
     "data": {
      "text/plain": [
       "2"
      ]
     },
     "execution_count": 40,
     "metadata": {},
     "output_type": "execute_result"
    }
   ],
   "source": [
    "# a simple version of the Python buil-in min() function:\n",
    "\n",
    "def min(values):\n",
    "    smallest = None\n",
    "    for value in values:\n",
    "        #print(values)\n",
    "        if smallest is None or value < smallest:\n",
    "            smallest = value\n",
    "    return smallest\n",
    "\n",
    "a = [13, 41, 2, 9, 74, 15]\n",
    "min (a)"
   ]
  },
  {
   "cell_type": "code",
   "execution_count": 41,
   "metadata": {},
   "outputs": [
    {
     "data": {
      "text/plain": [
       "9"
      ]
     },
     "execution_count": 41,
     "metadata": {},
     "output_type": "execute_result"
    }
   ],
   "source": [
    "a = [13, 41, 12, 9, 74, 15]\n",
    "min (a)"
   ]
  },
  {
   "cell_type": "markdown",
   "metadata": {},
   "source": [
    "### Search using Loop"
   ]
  },
  {
   "cell_type": "code",
   "execution_count": 51,
   "metadata": {},
   "outputs": [
    {
     "name": "stdout",
     "output_type": "stream",
     "text": [
      "False\n",
      "True\n"
     ]
    }
   ],
   "source": [
    "# Write a function called has_no_e that returns True if the given word doesn’t have the letter “e” in it.\n",
    "\n",
    "def has_no_e(word):\n",
    "    for letter in word:\n",
    "        if letter == 'e':\n",
    "            return False\n",
    "    return True\n",
    "# If we exit the loop normally, that means we didn’t find an “e”, so we return True.\n",
    "    \n",
    "print (has_no_e('egg'))\n",
    "print (has_no_e('clock'))"
   ]
  },
  {
   "cell_type": "code",
   "execution_count": 52,
   "metadata": {},
   "outputs": [],
   "source": [
    "# avoids is a more general version of has_no_e but it has the same structure:\n",
    "\n",
    "def avoids(word, forbidden):\n",
    "    for letter in word:\n",
    "        if letter in forbidden:\n",
    "            return False\n",
    "    return True"
   ]
  },
  {
   "cell_type": "code",
   "execution_count": 53,
   "metadata": {},
   "outputs": [],
   "source": [
    "# uses_only is similar except that the sense of the condition is reversed:\n",
    "\n",
    "def uses_only(word, available):\n",
    "    for letter in word:\n",
    "        if letter not in available:\n",
    "            return False\n",
    "    return True"
   ]
  },
  {
   "cell_type": "markdown",
   "metadata": {},
   "source": [
    "### Looping with indices"
   ]
  },
  {
   "cell_type": "code",
   "execution_count": 56,
   "metadata": {},
   "outputs": [
    {
     "name": "stdout",
     "output_type": "stream",
     "text": [
      "True\n",
      "False\n"
     ]
    }
   ],
   "source": [
    "# Write a function called is_abecedarian that returns True if the letters in a word appear in alphabetical order\n",
    "# We have to compare adjacent letters, which is a little tricky with a for loop:\n",
    "\n",
    "def is_abecedarian(word):\n",
    "    previous = word[0]\n",
    "    for i in word:\n",
    "        if i < previous:\n",
    "            return False\n",
    "        previous = i\n",
    "    return True\n",
    "\n",
    "print (is_abecedarian('abcdefgh'))\n",
    "print (is_abecedarian('acdea'))"
   ]
  },
  {
   "cell_type": "code",
   "execution_count": 58,
   "metadata": {},
   "outputs": [
    {
     "name": "stdout",
     "output_type": "stream",
     "text": [
      "True\n",
      "False\n"
     ]
    }
   ],
   "source": [
    "# An alternative is to use recursion:\n",
    "\n",
    "def is_abecedarian(word):\n",
    "    if len(word) <=1:\n",
    "        return True\n",
    "    if word[0] > word[1]:\n",
    "        return False\n",
    "    return is_abecedarian(word[1:])\n",
    "\n",
    "print (is_abecedarian('abcdef'))\n",
    "print (is_abecedarian('acdea'))"
   ]
  },
  {
   "cell_type": "code",
   "execution_count": 59,
   "metadata": {},
   "outputs": [
    {
     "name": "stdout",
     "output_type": "stream",
     "text": [
      "True\n",
      "False\n"
     ]
    },
    {
     "data": {
      "text/plain": [
       "'The loop starts at i=0 and ends when i=len(word)-1. Each time through the loop, it compares the ith character (which you can think \\nof as the current character) to the i + 1th character (which you can think of as the next). If the next character is less \\nthan (alphabetically before) the current one, then we have discovered a break in the abecedarian trend, and we return False.\\nIf we get to the end of the loop without finding a fault, then the word passes the test'"
      ]
     },
     "execution_count": 59,
     "metadata": {},
     "output_type": "execute_result"
    }
   ],
   "source": [
    "# Another option is to use a while loop:\n",
    "\n",
    "def is_abecedarian(word):\n",
    "    i = 0\n",
    "    while i < len(word)-1:\n",
    "        if word[i+1] < word[i]:\n",
    "            return False\n",
    "        i = i + 1\n",
    "    return True\n",
    "\n",
    "print (is_abecedarian('abcde'))\n",
    "print (is_abecedarian('acdea'))\n",
    "\n",
    "'''The loop starts at i=0 and ends when i=len(word)-1. Each time through the loop, it compares the ith character (which you can think \n",
    "of as the current character) to the i + 1th character (which you can think of as the next). If the next character is less \n",
    "than (alphabetically before) the current one, then we have discovered a break in the abecedarian trend, and we return False.\n",
    "If we get to the end of the loop without finding a fault, then the word passes the test'''"
   ]
  },
  {
   "cell_type": "code",
   "execution_count": null,
   "metadata": {},
   "outputs": [],
   "source": []
  }
 ],
 "metadata": {
  "kernelspec": {
   "display_name": "Python 3 (ipykernel)",
   "language": "python",
   "name": "python3"
  },
  "language_info": {
   "codemirror_mode": {
    "name": "ipython",
    "version": 3
   },
   "file_extension": ".py",
   "mimetype": "text/x-python",
   "name": "python",
   "nbconvert_exporter": "python",
   "pygments_lexer": "ipython3",
   "version": "3.9.7"
  }
 },
 "nbformat": 4,
 "nbformat_minor": 1
}
