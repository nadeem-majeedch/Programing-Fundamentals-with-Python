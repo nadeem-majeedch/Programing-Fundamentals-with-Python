{
 "cells": [
  {
   "cell_type": "markdown",
   "id": "f860a3b0",
   "metadata": {},
   "source": [
    "#### Values and data types"
   ]
  },
  {
   "cell_type": "code",
   "execution_count": 12,
   "id": "d0f1fac2",
   "metadata": {},
   "outputs": [
    {
     "data": {
      "text/plain": [
       "str"
      ]
     },
     "execution_count": 12,
     "metadata": {},
     "output_type": "execute_result"
    }
   ],
   "source": [
    "type(\"HelloWorld!\")"
   ]
  },
  {
   "cell_type": "code",
   "execution_count": 2,
   "id": "3989323b",
   "metadata": {},
   "outputs": [
    {
     "data": {
      "text/plain": [
       "int"
      ]
     },
     "execution_count": 2,
     "metadata": {},
     "output_type": "execute_result"
    }
   ],
   "source": [
    "type(17)"
   ]
  },
  {
   "cell_type": "code",
   "execution_count": 3,
   "id": "fa750caf",
   "metadata": {},
   "outputs": [
    {
     "data": {
      "text/plain": [
       "float"
      ]
     },
     "execution_count": 3,
     "metadata": {},
     "output_type": "execute_result"
    }
   ],
   "source": [
    "type(3.2)"
   ]
  },
  {
   "cell_type": "code",
   "execution_count": 4,
   "id": "4c60ab2c",
   "metadata": {},
   "outputs": [
    {
     "data": {
      "text/plain": [
       "str"
      ]
     },
     "execution_count": 4,
     "metadata": {},
     "output_type": "execute_result"
    }
   ],
   "source": [
    "type(\"17\")"
   ]
  },
  {
   "cell_type": "code",
   "execution_count": 5,
   "id": "5b475dca",
   "metadata": {},
   "outputs": [
    {
     "data": {
      "text/plain": [
       "str"
      ]
     },
     "execution_count": 5,
     "metadata": {},
     "output_type": "execute_result"
    }
   ],
   "source": [
    "type(\"3.2\")"
   ]
  },
  {
   "cell_type": "code",
   "execution_count": 6,
   "id": "2c27a482",
   "metadata": {},
   "outputs": [
    {
     "data": {
      "text/plain": [
       "str"
      ]
     },
     "execution_count": 6,
     "metadata": {},
     "output_type": "execute_result"
    }
   ],
   "source": [
    "type('This is a string.')"
   ]
  },
  {
   "cell_type": "code",
   "execution_count": 7,
   "id": "bfde6f76",
   "metadata": {},
   "outputs": [
    {
     "data": {
      "text/plain": [
       "str"
      ]
     },
     "execution_count": 7,
     "metadata": {},
     "output_type": "execute_result"
    }
   ],
   "source": [
    "type(\"And so is this.\")"
   ]
  },
  {
   "cell_type": "code",
   "execution_count": 8,
   "id": "aaff8b6a",
   "metadata": {},
   "outputs": [
    {
     "data": {
      "text/plain": [
       "str"
      ]
     },
     "execution_count": 8,
     "metadata": {},
     "output_type": "execute_result"
    }
   ],
   "source": [
    "type(\"\"\"and this.\"\"\")"
   ]
  },
  {
   "cell_type": "code",
   "execution_count": 9,
   "id": "bf7c9c25",
   "metadata": {},
   "outputs": [
    {
     "data": {
      "text/plain": [
       "str"
      ]
     },
     "execution_count": 9,
     "metadata": {},
     "output_type": "execute_result"
    }
   ],
   "source": [
    "type('''and even this...''')"
   ]
  },
  {
   "cell_type": "markdown",
   "id": "25493388",
   "metadata": {},
   "source": [
    "##### Triple quoted strings can even span multiple lines:"
   ]
  },
  {
   "cell_type": "code",
   "execution_count": 15,
   "id": "bcfdcedd",
   "metadata": {},
   "outputs": [
    {
     "name": "stdout",
     "output_type": "stream",
     "text": [
      "This message will\n",
      "span several\n",
      "lines.\n"
     ]
    }
   ],
   "source": [
    "message = \"\"\"This message will\n",
    "... span several\n",
    "... lines.\"\"\"\n",
    "print (message)"
   ]
  },
  {
   "cell_type": "markdown",
   "id": "87c73666",
   "metadata": {},
   "source": [
    "##### Strings in Python can be enclosed in either single quotes (') or double quotes (\"), or three of each (''' or \"\"\")"
   ]
  },
  {
   "cell_type": "markdown",
   "id": "bbe02b4f",
   "metadata": {},
   "source": [
    "##### Double quoted strings can contain single quotes inside them, as in \"Bruce's beard\", and single quoted strings can have double quotes inside them, as in 'The knights who say \"Ni!\"'.\n",
    "\n",
    "Strings enclosed with three occurrences of either quote symbol are called triple quoted strings. They can contain either single or double quotes:"
   ]
  },
  {
   "cell_type": "code",
   "execution_count": 16,
   "id": "f4944eac",
   "metadata": {},
   "outputs": [
    {
     "name": "stdout",
     "output_type": "stream",
     "text": [
      "\"Oh no\", she exclaimed, \"Ben's bike is broken!\"\n"
     ]
    }
   ],
   "source": [
    "print('''\"Oh no\", she exclaimed, \"Ben's bike is broken!\"''')"
   ]
  },
  {
   "cell_type": "code",
   "execution_count": null,
   "id": "62dd23d6",
   "metadata": {},
   "outputs": [],
   "source": []
  },
  {
   "cell_type": "code",
   "execution_count": null,
   "id": "1c67e5ed",
   "metadata": {},
   "outputs": [],
   "source": []
  },
  {
   "cell_type": "markdown",
   "id": "a6d7e9a3",
   "metadata": {},
   "source": [
    "## Operators and operands"
   ]
  },
  {
   "cell_type": "code",
   "execution_count": 17,
   "id": "15127ae8",
   "metadata": {},
   "outputs": [
    {
     "data": {
      "text/plain": [
       "8"
      ]
     },
     "execution_count": 17,
     "metadata": {},
     "output_type": "execute_result"
    }
   ],
   "source": [
    "2 ** 3"
   ]
  },
  {
   "cell_type": "code",
   "execution_count": 18,
   "id": "3e192d0a",
   "metadata": {},
   "outputs": [
    {
     "data": {
      "text/plain": [
       "1.75"
      ]
     },
     "execution_count": 18,
     "metadata": {},
     "output_type": "execute_result"
    }
   ],
   "source": [
    "7 / 4"
   ]
  },
  {
   "cell_type": "code",
   "execution_count": 19,
   "id": "9e9b182c",
   "metadata": {},
   "outputs": [
    {
     "data": {
      "text/plain": [
       "2"
      ]
     },
     "execution_count": 19,
     "metadata": {},
     "output_type": "execute_result"
    }
   ],
   "source": [
    "7 // 3"
   ]
  },
  {
   "cell_type": "code",
   "execution_count": 20,
   "id": "9ef59343",
   "metadata": {},
   "outputs": [
    {
     "data": {
      "text/plain": [
       "3"
      ]
     },
     "execution_count": 20,
     "metadata": {},
     "output_type": "execute_result"
    }
   ],
   "source": [
    "int(3.14)"
   ]
  },
  {
   "cell_type": "code",
   "execution_count": 22,
   "id": "268784c3",
   "metadata": {},
   "outputs": [
    {
     "data": {
      "text/plain": [
       "9"
      ]
     },
     "execution_count": 22,
     "metadata": {},
     "output_type": "execute_result"
    }
   ],
   "source": [
    "5679%10"
   ]
  },
  {
   "cell_type": "code",
   "execution_count": 23,
   "id": "80db3f25",
   "metadata": {},
   "outputs": [
    {
     "data": {
      "text/plain": [
       "3"
      ]
     },
     "execution_count": 23,
     "metadata": {},
     "output_type": "execute_result"
    }
   ],
   "source": [
    "int(3.9999)  "
   ]
  },
  {
   "cell_type": "code",
   "execution_count": 24,
   "id": "a4293103",
   "metadata": {},
   "outputs": [
    {
     "data": {
      "text/plain": [
       "-3"
      ]
     },
     "execution_count": 24,
     "metadata": {},
     "output_type": "execute_result"
    }
   ],
   "source": [
    "int(-3.999)"
   ]
  },
  {
   "cell_type": "code",
   "execution_count": 25,
   "id": "fad5420d",
   "metadata": {},
   "outputs": [
    {
     "data": {
      "text/plain": [
       "3"
      ]
     },
     "execution_count": 25,
     "metadata": {},
     "output_type": "execute_result"
    }
   ],
   "source": [
    "minutes = 200\n",
    "int(minutes / 60)"
   ]
  },
  {
   "cell_type": "code",
   "execution_count": 26,
   "id": "3acf60dc",
   "metadata": {},
   "outputs": [
    {
     "data": {
      "text/plain": [
       "2345"
      ]
     },
     "execution_count": 26,
     "metadata": {},
     "output_type": "execute_result"
    }
   ],
   "source": [
    "int(\"2345\")"
   ]
  },
  {
   "cell_type": "code",
   "execution_count": 27,
   "id": "19741f75",
   "metadata": {},
   "outputs": [
    {
     "data": {
      "text/plain": [
       "17"
      ]
     },
     "execution_count": 27,
     "metadata": {},
     "output_type": "execute_result"
    }
   ],
   "source": [
    "int(17)"
   ]
  },
  {
   "cell_type": "code",
   "execution_count": 28,
   "id": "83a37442",
   "metadata": {
    "scrolled": true
   },
   "outputs": [
    {
     "ename": "ValueError",
     "evalue": "invalid literal for int() with base 10: '23 bottles'",
     "output_type": "error",
     "traceback": [
      "\u001b[1;31m---------------------------------------------------------------------------\u001b[0m",
      "\u001b[1;31mValueError\u001b[0m                                Traceback (most recent call last)",
      "\u001b[1;32m~\\AppData\\Local\\Temp/ipykernel_7508/4069965084.py\u001b[0m in \u001b[0;36m<module>\u001b[1;34m\u001b[0m\n\u001b[1;32m----> 1\u001b[1;33m \u001b[0mint\u001b[0m\u001b[1;33m(\u001b[0m\u001b[1;34m\"23 bottles\"\u001b[0m\u001b[1;33m)\u001b[0m\u001b[1;33m\u001b[0m\u001b[1;33m\u001b[0m\u001b[0m\n\u001b[0m",
      "\u001b[1;31mValueError\u001b[0m: invalid literal for int() with base 10: '23 bottles'"
     ]
    }
   ],
   "source": [
    "int(\"23 bottles\")"
   ]
  },
  {
   "cell_type": "code",
   "execution_count": 29,
   "id": "2a519eef",
   "metadata": {},
   "outputs": [
    {
     "data": {
      "text/plain": [
       "17.0"
      ]
     },
     "execution_count": 29,
     "metadata": {},
     "output_type": "execute_result"
    }
   ],
   "source": [
    "float(17)"
   ]
  },
  {
   "cell_type": "code",
   "execution_count": 30,
   "id": "d4600517",
   "metadata": {},
   "outputs": [
    {
     "data": {
      "text/plain": [
       "123.45"
      ]
     },
     "execution_count": 30,
     "metadata": {},
     "output_type": "execute_result"
    }
   ],
   "source": [
    "float(\"123.45\")"
   ]
  },
  {
   "cell_type": "markdown",
   "id": "89449aec",
   "metadata": {},
   "source": [
    "## Order of operations"
   ]
  },
  {
   "cell_type": "markdown",
   "id": "96258e70",
   "metadata": {},
   "source": [
    "#### Python follows the same precedence rules for its mathematical operators that mathematics does. The acronym PEMDAS is a useful way to remember the order of operations:"
   ]
  },
  {
   "cell_type": "markdown",
   "id": "3aba2743",
   "metadata": {},
   "source": [
    "##### Parentheses, Exponentiation, Multiplication and both Division operators have the same precedence, \n",
    "##### which is higher than Addition and Subtraction. Operators with the same precedence are evaluated from left-to-right"
   ]
  },
  {
   "cell_type": "markdown",
   "id": "393d7d35",
   "metadata": {},
   "source": [
    "#####  an exception to the left-to-right left-associative rule is the exponentiation operator **, so a useful hint is to always use parentheses to force exactly the order you want when exponentiation is involved "
   ]
  },
  {
   "cell_type": "code",
   "execution_count": 32,
   "id": "48364d93",
   "metadata": {},
   "outputs": [
    {
     "data": {
      "text/plain": [
       "512"
      ]
     },
     "execution_count": 32,
     "metadata": {},
     "output_type": "execute_result"
    }
   ],
   "source": [
    "2 ** 3 ** 2 "
   ]
  },
  {
   "cell_type": "code",
   "execution_count": 33,
   "id": "c0cc9b1e",
   "metadata": {
    "scrolled": true
   },
   "outputs": [
    {
     "data": {
      "text/plain": [
       "64"
      ]
     },
     "execution_count": 33,
     "metadata": {},
     "output_type": "execute_result"
    }
   ],
   "source": [
    "(2 ** 3) ** 2"
   ]
  },
  {
   "cell_type": "markdown",
   "id": "544121fa",
   "metadata": {},
   "source": [
    "### Operations on strings"
   ]
  },
  {
   "cell_type": "code",
   "execution_count": 34,
   "id": "7608c556",
   "metadata": {},
   "outputs": [
    {
     "ename": "TypeError",
     "evalue": "unsupported operand type(s) for -: 'str' and 'int'",
     "output_type": "error",
     "traceback": [
      "\u001b[1;31m---------------------------------------------------------------------------\u001b[0m",
      "\u001b[1;31mTypeError\u001b[0m                                 Traceback (most recent call last)",
      "\u001b[1;32m~\\AppData\\Local\\Temp/ipykernel_7508/808662639.py\u001b[0m in \u001b[0;36m<module>\u001b[1;34m\u001b[0m\n\u001b[1;32m----> 1\u001b[1;33m \u001b[0mmessage\u001b[0m \u001b[1;33m-\u001b[0m \u001b[1;36m1\u001b[0m        \u001b[1;31m# Error\u001b[0m\u001b[1;33m\u001b[0m\u001b[1;33m\u001b[0m\u001b[0m\n\u001b[0m\u001b[0;32m      2\u001b[0m \u001b[1;34m\"Hello\"\u001b[0m \u001b[1;33m/\u001b[0m \u001b[1;36m123\u001b[0m      \u001b[1;31m# Error\u001b[0m\u001b[1;33m\u001b[0m\u001b[1;33m\u001b[0m\u001b[0m\n\u001b[0;32m      3\u001b[0m \u001b[0mmessage\u001b[0m \u001b[1;33m*\u001b[0m \u001b[1;34m\"Hello\"\u001b[0m  \u001b[1;31m# Error\u001b[0m\u001b[1;33m\u001b[0m\u001b[1;33m\u001b[0m\u001b[0m\n\u001b[0;32m      4\u001b[0m \u001b[1;34m\"15\"\u001b[0m \u001b[1;33m+\u001b[0m \u001b[1;36m2\u001b[0m           \u001b[1;31m# Error\u001b[0m\u001b[1;33m\u001b[0m\u001b[1;33m\u001b[0m\u001b[0m\n",
      "\u001b[1;31mTypeError\u001b[0m: unsupported operand type(s) for -: 'str' and 'int'"
     ]
    }
   ],
   "source": [
    "message - 1        # Error\n",
    "\"Hello\" / 123      # Error\n",
    "message * \"Hello\"  # Error\n",
    "\"15\" + 2           # Error"
   ]
  },
  {
   "cell_type": "code",
   "execution_count": 35,
   "id": "270aa467",
   "metadata": {},
   "outputs": [
    {
     "name": "stdout",
     "output_type": "stream",
     "text": [
      "banana nut bread\n"
     ]
    }
   ],
   "source": [
    "fruit = \"banana\"\n",
    "baked_good = \" nut bread\"\n",
    "print(fruit + baked_good)   # concatenation"
   ]
  },
  {
   "cell_type": "code",
   "execution_count": 36,
   "id": "d4847554",
   "metadata": {},
   "outputs": [
    {
     "data": {
      "text/plain": [
       "'FunFunFun'"
      ]
     },
     "execution_count": 36,
     "metadata": {},
     "output_type": "execute_result"
    }
   ],
   "source": [
    "'Fun'*3"
   ]
  },
  {
   "cell_type": "markdown",
   "id": "f1620367",
   "metadata": {},
   "source": [
    "## Input"
   ]
  },
  {
   "cell_type": "code",
   "execution_count": 43,
   "id": "f9b5a074",
   "metadata": {},
   "outputs": [
    {
     "name": "stdout",
     "output_type": "stream",
     "text": [
      "Please enter your name: ali raza\n",
      "ali raza\n",
      "<class 'str'>\n"
     ]
    }
   ],
   "source": [
    "n = input(\"Please enter your name: \")\n",
    "# n=int(n)\n",
    "print(n)\n",
    "\n",
    "print(type(n))"
   ]
  },
  {
   "cell_type": "markdown",
   "id": "85b31ec8",
   "metadata": {},
   "source": [
    "#### The modulus operator\n",
    "##### works on integers "
   ]
  },
  {
   "cell_type": "code",
   "execution_count": 44,
   "id": "caf7bf23",
   "metadata": {},
   "outputs": [
    {
     "name": "stdout",
     "output_type": "stream",
     "text": [
      "2\n"
     ]
    }
   ],
   "source": [
    "r  = 17 % 3\n",
    "print(r)"
   ]
  },
  {
   "cell_type": "code",
   "execution_count": 45,
   "id": "f0ccb88d",
   "metadata": {},
   "outputs": [
    {
     "name": "stdout",
     "output_type": "stream",
     "text": [
      "How many seconds, in total?7700\n",
      "Hrs= 2   mins= 8 secs= 20\n"
     ]
    }
   ],
   "source": [
    "total_secs = int(input(\"How many seconds, in total?\"))\n",
    "hours = total_secs // 3600\n",
    "secs_still_remaining = total_secs % 3600\n",
    "minutes1 =  secs_still_remaining // 60\n",
    "secs_finally_remaining = secs_still_remaining  % 60\n",
    "\n",
    "print(\"Hrs=\", hours, \"  mins=\", minutes1,\n",
    "                         \"secs=\", secs_finally_remaining)"
   ]
  },
  {
   "cell_type": "markdown",
   "id": "72c3960d",
   "metadata": {},
   "source": [
    "### Composition"
   ]
  },
  {
   "cell_type": "code",
   "execution_count": null,
   "id": "505dcde3",
   "metadata": {},
   "outputs": [],
   "source": [
    "response = input(\"What is your radius? \")\n",
    "r = float(response)\n",
    "area = 3.14159 * r**2\n",
    "print(\"The area is \", area)"
   ]
  },
  {
   "cell_type": "code",
   "execution_count": null,
   "id": "ae8e91bb",
   "metadata": {},
   "outputs": [],
   "source": [
    "r = float( input(\"What is your radius? \") )\n",
    "print(\"The area is \", 3.14159 * r**2)"
   ]
  },
  {
   "cell_type": "code",
   "execution_count": 46,
   "id": "e90e60a1",
   "metadata": {},
   "outputs": [
    {
     "ename": "SyntaxError",
     "evalue": "invalid syntax (Temp/ipykernel_7508/4244032744.py, line 1)",
     "output_type": "error",
     "traceback": [
      "\u001b[1;36m  File \u001b[1;32m\"C:\\Users\\ST\\AppData\\Local\\Temp/ipykernel_7508/4244032744.py\"\u001b[1;36m, line \u001b[1;32m1\u001b[0m\n\u001b[1;33m    print(\"The area is \", 3.14159 float(input(\"What is your radius?\"))**2)\u001b[0m\n\u001b[1;37m                                  ^\u001b[0m\n\u001b[1;31mSyntaxError\u001b[0m\u001b[1;31m:\u001b[0m invalid syntax\n"
     ]
    }
   ],
   "source": [
    "print(\"The area is \", 3.14159*float(input(\"What is your radius?\"))**2)"
   ]
  },
  {
   "cell_type": "code",
   "execution_count": null,
   "id": "1fc7582d",
   "metadata": {},
   "outputs": [],
   "source": []
  }
 ],
 "metadata": {
  "kernelspec": {
   "display_name": "Python 3 (ipykernel)",
   "language": "python",
   "name": "python3"
  },
  "language_info": {
   "codemirror_mode": {
    "name": "ipython",
    "version": 3
   },
   "file_extension": ".py",
   "mimetype": "text/x-python",
   "name": "python",
   "nbconvert_exporter": "python",
   "pygments_lexer": "ipython3",
   "version": "3.9.7"
  }
 },
 "nbformat": 4,
 "nbformat_minor": 5
}
