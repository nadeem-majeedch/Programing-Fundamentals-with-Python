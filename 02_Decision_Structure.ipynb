{
 "cells": [
  {
   "cell_type": "markdown",
   "id": "ac33feb4",
   "metadata": {},
   "source": [
    "# Decisions "
   ]
  },
  {
   "cell_type": "markdown",
   "id": "b5d9ca6d",
   "metadata": {},
   "source": [
    "### A Boolean value is either true or false. It is named after the British mathematician, George Boole, who first formulated Boolean algebra "
   ]
  },
  {
   "cell_type": "markdown",
   "id": "a05509a7",
   "metadata": {},
   "source": [
    "#### In Python, the two Boolean values are True and False, and the Python type is bool."
   ]
  },
  {
   "cell_type": "code",
   "execution_count": 2,
   "id": "200253ed",
   "metadata": {},
   "outputs": [
    {
     "data": {
      "text/plain": [
       "bool"
      ]
     },
     "execution_count": 2,
     "metadata": {},
     "output_type": "execute_result"
    }
   ],
   "source": [
    "type(True)"
   ]
  },
  {
   "cell_type": "code",
   "execution_count": 3,
   "id": "83f939c0",
   "metadata": {},
   "outputs": [
    {
     "ename": "NameError",
     "evalue": "name 'true' is not defined",
     "output_type": "error",
     "traceback": [
      "\u001b[1;31m---------------------------------------------------------------------------\u001b[0m",
      "\u001b[1;31mNameError\u001b[0m                                 Traceback (most recent call last)",
      "\u001b[1;32m~\\AppData\\Local\\Temp/ipykernel_18960/1822790664.py\u001b[0m in \u001b[0;36m<module>\u001b[1;34m\u001b[0m\n\u001b[1;32m----> 1\u001b[1;33m \u001b[0mtype\u001b[0m\u001b[1;33m(\u001b[0m\u001b[0mtrue\u001b[0m\u001b[1;33m)\u001b[0m\u001b[1;33m\u001b[0m\u001b[1;33m\u001b[0m\u001b[0m\n\u001b[0m",
      "\u001b[1;31mNameError\u001b[0m: name 'true' is not defined"
     ]
    }
   ],
   "source": [
    "type(true)"
   ]
  },
  {
   "cell_type": "markdown",
   "id": "42fd74c5",
   "metadata": {},
   "source": [
    "#### A Boolean expression is an expression that evaluates to produce a result which is a Boolean value. \n",
    "##### For example, the operator == tests if two values are equal. It produces (or yields) a Boolean value:"
   ]
  },
  {
   "cell_type": "code",
   "execution_count": 5,
   "id": "140294f2",
   "metadata": {},
   "outputs": [
    {
     "data": {
      "text/plain": [
       "True"
      ]
     },
     "execution_count": 5,
     "metadata": {},
     "output_type": "execute_result"
    }
   ],
   "source": [
    "5 == (3 + 2)   # Is five equal 5 to the result of 3 + 2?"
   ]
  },
  {
   "cell_type": "code",
   "execution_count": 6,
   "id": "efe12c73",
   "metadata": {},
   "outputs": [
    {
     "data": {
      "text/plain": [
       "True"
      ]
     },
     "execution_count": 6,
     "metadata": {},
     "output_type": "execute_result"
    }
   ],
   "source": [
    "j = \"hel\"\n",
    "j + \"lo\" == \"hello\""
   ]
  },
  {
   "cell_type": "code",
   "execution_count": 8,
   "id": "cf88e794",
   "metadata": {},
   "outputs": [
    {
     "name": "stdout",
     "output_type": "stream",
     "text": [
      "False\n",
      "True\n",
      "False\n",
      "True\n",
      "False\n",
      "True\n"
     ]
    }
   ],
   "source": [
    "x=7\n",
    "y=17\n",
    "print(x == y)               # Produce True if ... x is equal to y\n",
    "print(x != y)               # ... x is not equal to y\n",
    "print(x > y )                # ... x is greater than y\n",
    "print(x < y)                 # ... x is less than y\n",
    "print(x >= y )               # ... x is greater than or equal to y\n",
    "print(x <= y )               # ... x is less than or equal to y"
   ]
  },
  {
   "cell_type": "code",
   "execution_count": 9,
   "id": "9ccd50ce",
   "metadata": {},
   "outputs": [
    {
     "name": "stdout",
     "output_type": "stream",
     "text": [
      "True\n",
      "-----\n"
     ]
    },
    {
     "data": {
      "text/plain": [
       "bool"
      ]
     },
     "execution_count": 9,
     "metadata": {},
     "output_type": "execute_result"
    }
   ],
   "source": [
    "age = 18\n",
    "old_enough_to_get_driving_licence = age >= 17\n",
    "print(old_enough_to_get_driving_licence)\n",
    "print(\"-----\")\n",
    "type(old_enough_to_get_driving_licence)\n"
   ]
  },
  {
   "cell_type": "markdown",
   "id": "07c6f2ce",
   "metadata": {},
   "source": [
    "## Logical operators"
   ]
  },
  {
   "cell_type": "markdown",
   "id": "85089ad1",
   "metadata": {},
   "source": [
    "#### Three logical operators, \n",
    "### and, or,  not, \n",
    "<pre>That allow us to build more complex Boolean expressions from simpler Boolean expressions. The semantics (meaning) of these operators is similar to their meaning in English.<code>\n",
    "<pre> For example, x > 0 and x < 10 produces True only if x is greater than 0 and at the same time, x is less than 10. <code>\n",
    "<pre>\n",
    "n % 2 == 0 or n % 3 == 0 is True if either of the conditions is True, that is, if the number n is divisible by 2 or it is divisible by 3.\n",
    "<code>"
   ]
  },
  {
   "cell_type": "markdown",
   "id": "a2edb69e",
   "metadata": {},
   "source": [
    "### and operator\n",
    "<pre>\n",
    "  x and False == False\n",
    "  False and x == False\n",
    "  y and x == x and y\n",
    "  x and True == x\n",
    "  True and x == x\n",
    "  x and x == x\n",
    "     <code>"
   ]
  },
  {
   "cell_type": "markdown",
   "id": "461a51cb",
   "metadata": {},
   "source": [
    "### or operator\n",
    "<pre>\n",
    " x or False == x\n",
    " False or x == x\n",
    " y or x == x or y\n",
    " x or True == True\n",
    " True or x == True\n",
    " x or x == x\n",
    " <code>"
   ]
  },
  {
   "cell_type": "markdown",
   "id": "6d184f69",
   "metadata": {},
   "source": [
    "### not operator\n",
    "<pre>\n",
    "not (not x) == x\n",
    "<code>"
   ]
  },
  {
   "cell_type": "code",
   "execution_count": null,
   "id": "6cbb8fad",
   "metadata": {},
   "outputs": [],
   "source": [
    "import math"
   ]
  },
  {
   "cell_type": "code",
   "execution_count": null,
   "id": "fc6c25ff",
   "metadata": {},
   "outputs": [],
   "source": [
    "# x = 36\n",
    "if x < 0:\n",
    "    print(\"The negative number \",  x, \" is not valid here.\")\n",
    "    x = 42\n",
    "    print(\"I've decided to use the number 42 instead.\")\n",
    "\n",
    "print(\"The square root of \", x, \"is\", math.sqrt(x))"
   ]
  },
  {
   "cell_type": "code",
   "execution_count": null,
   "id": "2b5e0414",
   "metadata": {},
   "outputs": [],
   "source": []
  },
  {
   "cell_type": "code",
   "execution_count": null,
   "id": "b9c93825",
   "metadata": {},
   "outputs": [],
   "source": []
  },
  {
   "cell_type": "markdown",
   "id": "4e5893e8",
   "metadata": {},
   "source": [
    "<pre>\n",
    "if BOOLEAN EXPRESSION:\n",
    "    STATEMENTS_1        # Executed if condition evaluates to True\n",
    "else:\n",
    "    STATEMENTS_2        # Executed if condition evaluates to False\n",
    "<code>"
   ]
  },
  {
   "cell_type": "code",
   "execution_count": null,
   "id": "727c71c2",
   "metadata": {},
   "outputs": [],
   "source": [
    "x = 21\n",
    "if x % 2 == 0:\n",
    "    print(x, \" is even.\")\n",
    "    print(\"Did you know that 2 is the only even number that is prime?\")\n",
    "else:\n",
    "    print(x, \" is odd.\")\n",
    "    print(\"Did you know that multiplying two odd numbers \" +\n",
    "                                         \"always gives an odd result?\")"
   ]
  },
  {
   "cell_type": "markdown",
   "id": "7c48f096",
   "metadata": {},
   "source": [
    "## Chained conditionals"
   ]
  },
  {
   "cell_type": "markdown",
   "id": "e8f3ed52",
   "metadata": {},
   "source": [
    "<pre>\n",
    "if x < y:\n",
    "    STATEMENTS_A\n",
    "elif x > y:\n",
    "    STATEMENTS_B\n",
    "else:\n",
    "    STATEMENTS_C\n",
    "    <code>"
   ]
  },
  {
   "cell_type": "markdown",
   "id": "b1343b3a",
   "metadata": {},
   "source": [
    "<pre>\n",
    "if choice == \"a\":\n",
    "    function_one()\n",
    "elif choice == \"b\":\n",
    "    function_two()\n",
    "elif choice == \"c\":\n",
    "    function_three()\n",
    "else:\n",
    "    print(\"Invalid choice.\")\n",
    "    <code>"
   ]
  },
  {
   "cell_type": "markdown",
   "id": "2a8ef532",
   "metadata": {},
   "source": [
    "## Nested conditionals\n",
    "One conditional can also be nested within another."
   ]
  },
  {
   "cell_type": "markdown",
   "id": "52b7a28d",
   "metadata": {},
   "source": [
    "<pre>\n",
    "if x < y:\n",
    "    STATEMENTS_A\n",
    "else:\n",
    "    if x > y:\n",
    "        STATEMENTS_B\n",
    "    else:\n",
    "        STATEMENTS_C\n",
    "        <code>"
   ]
  },
  {
   "cell_type": "code",
   "execution_count": null,
   "id": "55122f86",
   "metadata": {},
   "outputs": [],
   "source": [
    "x=1\n",
    "if 0 < x:            # Assume x is an int here\n",
    "   # print(x)\n",
    "    if x < 10:\n",
    "        print(\"x is a positive single digit.\")"
   ]
  },
  {
   "cell_type": "code",
   "execution_count": null,
   "id": "8646ba92",
   "metadata": {
    "scrolled": true
   },
   "outputs": [],
   "source": [
    "if 0 < x and x < 10:\n",
    "    print(\"x is a positive single digit.\")"
   ]
  },
  {
   "cell_type": "markdown",
   "id": "72798aad",
   "metadata": {},
   "source": [
    "### Logical opposites"
   ]
  },
  {
   "cell_type": "markdown",
   "id": "937f3262",
   "metadata": {},
   "source": [
    "<pre>\n",
    "operator\tlogical opposite\n",
    " ==    \t       !=\n",
    "!=\t            ==\n",
    "<\t\t        >=\n",
    "<=\t\t        >\n",
    ">\t\t        <=\n",
    ">=\t\t        <\n",
    "<code>"
   ]
  },
  {
   "cell_type": "code",
   "execution_count": null,
   "id": "78d2a2aa",
   "metadata": {},
   "outputs": [],
   "source": [
    "age = 16\n",
    "if not (age >= 17):\n",
    "    print(\"Hey, you're too young to get a driving licence!\")"
   ]
  },
  {
   "cell_type": "code",
   "execution_count": null,
   "id": "1df1ca93",
   "metadata": {},
   "outputs": [],
   "source": [
    "if age < 17:\n",
    "    print(\"Hey, you're too young to get a driving licence!\")"
   ]
  },
  {
   "cell_type": "markdown",
   "id": "18d36311",
   "metadata": {},
   "source": [
    "##### Two powerful simplification laws (called de Morgan’s laws)"
   ]
  },
  {
   "cell_type": "markdown",
   "id": "1fcc487c",
   "metadata": {},
   "source": [
    "<pre>\n",
    "not (x and y)  ==  (not x) or (not y)\n",
    "not (x or y)   ==  (not x) and (not y)\n",
    "<code>"
   ]
  },
  {
   "cell_type": "code",
   "execution_count": null,
   "id": "bbf906e6",
   "metadata": {},
   "outputs": [],
   "source": [
    "sword_charge = 0.90\n",
    "shield_energy = 100"
   ]
  },
  {
   "cell_type": "code",
   "execution_count": null,
   "id": "887af647",
   "metadata": {},
   "outputs": [],
   "source": [
    "if not ((sword_charge >= 0.90) and (shield_energy >= 100)):\n",
    "    print(\"Your attack has no effect, the dragon fries you to a crisp!\")\n",
    "else:\n",
    "    print(\"The dragon crumples in a heap. You rescue the gorgeous princess!\")"
   ]
  },
  {
   "cell_type": "code",
   "execution_count": null,
   "id": "745e0183",
   "metadata": {},
   "outputs": [],
   "source": [
    "if (sword_charge < 0.90) or (shield_energy < 100):\n",
    "    print(\"Your attack has no effect, the dragon fries you to a crisp!\")\n",
    "else:\n",
    "    print(\"The dragon crumples in a heap. You rescue the gorgeous princess!\")"
   ]
  },
  {
   "cell_type": "code",
   "execution_count": null,
   "id": "912b1273",
   "metadata": {},
   "outputs": [],
   "source": [
    "if (sword_charge >= 0.90) and (shield_energy >= 100):\n",
    "    print(\"The dragon crumples in a heap. You rescue the gorgeous princess!\")\n",
    "else:\n",
    "    print(\"Your attack has no effect, the dragon fries you to a crisp!\")"
   ]
  },
  {
   "cell_type": "code",
   "execution_count": null,
   "id": "4292337e",
   "metadata": {},
   "outputs": [],
   "source": []
  },
  {
   "cell_type": "code",
   "execution_count": null,
   "id": "cd234b17",
   "metadata": {},
   "outputs": [],
   "source": []
  },
  {
   "cell_type": "code",
   "execution_count": 1,
   "id": "7daa23a7",
   "metadata": {},
   "outputs": [],
   "source": [
    "from turtle import *\n",
    "color('red', 'yellow')\n",
    "begin_fill()\n",
    "while True:\n",
    "    forward(200)\n",
    "    left(170)\n",
    "    if abs(pos()) < 1:\n",
    "        break\n",
    "end_fill()\n",
    "done()"
   ]
  },
  {
   "cell_type": "code",
   "execution_count": 1,
   "id": "8b67c43c",
   "metadata": {},
   "outputs": [
    {
     "ename": "SyntaxError",
     "evalue": "invalid syntax (Temp/ipykernel_11476/2694527116.py, line 3)",
     "output_type": "error",
     "traceback": [
      "\u001b[1;36m  File \u001b[1;32m\"C:\\Users\\ST\\AppData\\Local\\Temp/ipykernel_11476/2694527116.py\"\u001b[1;36m, line \u001b[1;32m3\u001b[0m\n\u001b[1;33m    match lang:\u001b[0m\n\u001b[1;37m          ^\u001b[0m\n\u001b[1;31mSyntaxError\u001b[0m\u001b[1;31m:\u001b[0m invalid syntax\n"
     ]
    }
   ],
   "source": [
    "lang = input(\"What's the programming language you want to learn? \")\n",
    "\n",
    "match lang:\n",
    "    case \"JavaScript\":\n",
    "        print(\"You can become a web developer.\")\n",
    "\n",
    "    case \"Python\":\n",
    "        print(\"You can become a Data Scientist\")\n",
    "\n",
    "    case \"PHP\":\n",
    "        print(\"You can become a backend developer\")\n",
    "    \n",
    "    case \"Solidity\":\n",
    "        print(\"You can become a Blockchain developer\")\n",
    "\n",
    "    case \"Java\":\n",
    "        print(\"You can become a mobile app developer\")\n",
    "    case _:\n",
    "        print(\"The language doesn't matter, what matters is solving problems.\")"
   ]
  },
  {
   "cell_type": "code",
   "execution_count": null,
   "id": "44a4c471",
   "metadata": {},
   "outputs": [],
   "source": []
  }
 ],
 "metadata": {
  "kernelspec": {
   "display_name": "Python 3 (ipykernel)",
   "language": "python",
   "name": "python3"
  },
  "language_info": {
   "codemirror_mode": {
    "name": "ipython",
    "version": 3
   },
   "file_extension": ".py",
   "mimetype": "text/x-python",
   "name": "python",
   "nbconvert_exporter": "python",
   "pygments_lexer": "ipython3",
   "version": "3.9.7"
  }
 },
 "nbformat": 4,
 "nbformat_minor": 5
}
