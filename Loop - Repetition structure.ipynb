{
 "cells": [
  {
   "cell_type": "markdown",
   "id": "58f59bc7",
   "metadata": {},
   "source": [
    "# Repetition structure (Loop)"
   ]
  },
  {
   "cell_type": "markdown",
   "id": "ee6562a7",
   "metadata": {},
   "source": [
    "## For Loop using in"
   ]
  },
  {
   "cell_type": "code",
   "execution_count": 12,
   "id": "a36096f1",
   "metadata": {},
   "outputs": [
    {
     "name": "stdout",
     "output_type": "stream",
     "text": [
      "1\n",
      "2\n",
      "3\n",
      "4\n",
      "5\n"
     ]
    }
   ],
   "source": [
    "#print('I will display the numbers 1 through 5.')\n",
    "for num in [1, 2, 3, 4, 5]:\n",
    "    print (num)"
   ]
  },
  {
   "cell_type": "code",
   "execution_count": 13,
   "id": "8285a689",
   "metadata": {},
   "outputs": [
    {
     "name": "stdout",
     "output_type": "stream",
     "text": [
      "1\n",
      "3\n",
      "5\n",
      "7\n",
      "9\n"
     ]
    }
   ],
   "source": [
    "#print('I will display the odd numbers 1 through 9.')\n",
    "for num in [1, 3, 5, 7, 9]:\n",
    "    print(num)"
   ]
  },
  {
   "cell_type": "code",
   "execution_count": 14,
   "id": "b0f928cc",
   "metadata": {},
   "outputs": [
    {
     "name": "stdout",
     "output_type": "stream",
     "text": [
      "Ali\n",
      "Bilal\n",
      "Ahmad\n"
     ]
    }
   ],
   "source": [
    "# loop that uses a list of strings.\n",
    "\n",
    "for name in ['Ali', 'Bilal', 'Ahmad']:\n",
    "    print (name)"
   ]
  },
  {
   "cell_type": "markdown",
   "id": "89228328",
   "metadata": {},
   "source": [
    "## for loop using range"
   ]
  },
  {
   "cell_type": "code",
   "execution_count": 15,
   "id": "04549e93",
   "metadata": {},
   "outputs": [
    {
     "name": "stdout",
     "output_type": "stream",
     "text": [
      "0\n",
      "1\n",
      "2\n",
      "3\n",
      "4\n"
     ]
    }
   ],
   "source": [
    "for num in range(5):\n",
    "    print (num)"
   ]
  },
  {
   "cell_type": "code",
   "execution_count": 16,
   "id": "02778e3d",
   "metadata": {},
   "outputs": [
    {
     "name": "stdout",
     "output_type": "stream",
     "text": [
      "19 * 1 = 19\n",
      "19 * 2 = 38\n",
      "19 * 3 = 57\n",
      "19 * 4 = 76\n",
      "19 * 5 = 95\n",
      "19 * 6 = 114\n",
      "19 * 7 = 133\n",
      "19 * 8 = 152\n",
      "19 * 9 = 171\n",
      "19 * 10 = 190\n"
     ]
    }
   ],
   "source": [
    "n=19\n",
    "for num in range(1, 11):\n",
    "    print (n,\"*\",num,\"=\",num*n)"
   ]
  },
  {
   "cell_type": "markdown",
   "id": "b3f0db5a",
   "metadata": {},
   "source": [
    "## while loop"
   ]
  },
  {
   "cell_type": "code",
   "execution_count": 17,
   "id": "a454ac30",
   "metadata": {},
   "outputs": [
    {
     "name": "stdout",
     "output_type": "stream",
     "text": [
      "19 * 1 = 19\n",
      "19 * 2 = 38\n",
      "19 * 3 = 57\n",
      "19 * 4 = 76\n",
      "19 * 5 = 95\n",
      "19 * 6 = 114\n",
      "19 * 7 = 133\n",
      "19 * 8 = 152\n",
      "19 * 9 = 171\n",
      "19 * 10 = 190\n"
     ]
    }
   ],
   "source": [
    "n=19\n",
    "num=1\n",
    "while(num<=10):\n",
    "    print (n,\"*\",num,\"=\",num*n)\n",
    "    num+=1"
   ]
  },
  {
   "cell_type": "code",
   "execution_count": 18,
   "id": "902bba7a",
   "metadata": {},
   "outputs": [
    {
     "name": "stdout",
     "output_type": "stream",
     "text": [
      "Hi\n",
      "do u continue y/n: y\n",
      "Hi\n",
      "do u continue y/n: n\n"
     ]
    }
   ],
   "source": [
    "x='y'\n",
    "while(x!='n'):\n",
    "    print(\"Hi\")\n",
    "    x=input(\"do u continue y/n: \")"
   ]
  },
  {
   "cell_type": "code",
   "execution_count": 19,
   "id": "15d704f3",
   "metadata": {},
   "outputs": [
    {
     "name": "stdout",
     "output_type": "stream",
     "text": [
      "1\n",
      "3\n",
      "5\n",
      "7\n",
      "9\n"
     ]
    }
   ],
   "source": [
    "for num in range(1, 10,2):\n",
    "\tprint (num)"
   ]
  },
  {
   "cell_type": "markdown",
   "id": "1187e5d6",
   "metadata": {},
   "source": [
    "### More Examples of for and while"
   ]
  },
  {
   "cell_type": "code",
   "execution_count": 20,
   "id": "cad5a93f",
   "metadata": {},
   "outputs": [
    {
     "name": "stdout",
     "output_type": "stream",
     "text": [
      "Enter an integer: 5\n",
      "There are 0 numbers divisible by 5 in the range 1 through 5\n"
     ]
    }
   ],
   "source": [
    "value = int(input(\"Enter an integer: \"))\n",
    "counter = 0;         # initialize an accumulator variable\n",
    "for i in range(1, value):\n",
    "   if i % 5 == 0:         # if the index is divisible by 5\n",
    "      counter = counter + 1;      #  add it to the accumulator\n",
    "print (\"There are\", counter, \"numbers divisible by 5 in the range 1 through\", value)\n",
    " "
   ]
  },
  {
   "cell_type": "code",
   "execution_count": 21,
   "id": "5ff40910",
   "metadata": {},
   "outputs": [
    {
     "name": "stdout",
     "output_type": "stream",
     "text": [
      "Enter an integer: 7\n",
      "Sum more values? (y for yes): n\n",
      "Your total is: 7\n"
     ]
    }
   ],
   "source": [
    "sum = 0;\n",
    "more = 'y'         # initialize an accumulator variable\n",
    "while more == 'y':\n",
    "   value = int(input(\"Enter an integer: \"))\n",
    "   sum = sum + value      #  add it to the accumulator\n",
    "   more = input('Sum more values? (y for yes): ')\n",
    "   \n",
    "print (\"Your total is: %d\" % sum)"
   ]
  },
  {
   "cell_type": "code",
   "execution_count": 22,
   "id": "c5ef47a2",
   "metadata": {},
   "outputs": [
    {
     "name": "stdout",
     "output_type": "stream",
     "text": [
      "Enter an integer: 8\n",
      "In the range 1 through 8\n",
      "\tthe sum of the numbers that are divisible by 5 = 5\n"
     ]
    }
   ],
   "source": [
    "value = int(input(\"Enter an integer: \"))\n",
    "sum = 0;                  # initialize an accumulator variable\n",
    "for i in range(1, value):\n",
    "   if i % 5 == 0:        # if the index is divisible by 5\n",
    "      sum = sum + i;     #  add it to the accumulator\n",
    "print (\"In the range 1 through %d\" % value + \\\n",
    "      \"\\n\\tthe sum of the numbers that are divisible by 5 = %d\" % sum)\n"
   ]
  },
  {
   "cell_type": "code",
   "execution_count": 23,
   "id": "651047c0",
   "metadata": {},
   "outputs": [
    {
     "name": "stdout",
     "output_type": "stream",
     "text": [
      "Enter an integer: 9\n",
      "5\n",
      "In the range 1 through 9\n",
      "\tthe product of the numbers that are divisible by 5 = 5\n"
     ]
    }
   ],
   "source": [
    "\n",
    "value = int(input(\"Enter an integer: \"))\n",
    "product = 1;         # initialize an accumulator variable\n",
    "for i in range(1, value):\n",
    "   if i % 5 == 0:         # if the index is divisible by 5\n",
    "      product = product * i;\n",
    "      print (product)      #  add it to the accumulator\n",
    "print (\"In the range 1 through %d\" % value + \\\n",
    "      \"\\n\\tthe product of the numbers that are divisible by 5 = %d\" % product)"
   ]
  },
  {
   "cell_type": "code",
   "execution_count": null,
   "id": "076aa284",
   "metadata": {},
   "outputs": [],
   "source": []
  },
  {
   "cell_type": "code",
   "execution_count": null,
   "id": "9c988842",
   "metadata": {},
   "outputs": [],
   "source": []
  },
  {
   "cell_type": "code",
   "execution_count": 24,
   "id": "a7acb2c8",
   "metadata": {},
   "outputs": [
    {
     "name": "stdout",
     "output_type": "stream",
     "text": [
      "Loop execution 0\n",
      "Loop execution 1\n",
      "Loop execution 2\n"
     ]
    }
   ],
   "source": [
    "for x in range (0,3) :\n",
    "    print ('Loop execution',x)"
   ]
  },
  {
   "cell_type": "code",
   "execution_count": 25,
   "id": "b027b855",
   "metadata": {},
   "outputs": [
    {
     "name": "stdout",
     "output_type": "stream",
     "text": [
      "Current letter is: T\n",
      "Current letter is: u\n",
      "Current letter is: t\n",
      "Current letter is: o\n",
      "Current letter is: r\n",
      "Current letter is: i\n",
      "Current letter is: a\n",
      "Current letter is: l\n",
      "Current letter is: s\n",
      "Current letter is: C\n",
      "Current letter is: l\n",
      "Current letter is: o\n",
      "Current letter is: u\n",
      "Current letter is: d\n"
     ]
    }
   ],
   "source": [
    "for letter in 'TutorialsCloud': \n",
    "   print ('Current letter is:', letter)"
   ]
  },
  {
   "cell_type": "code",
   "execution_count": 26,
   "id": "012e5465",
   "metadata": {},
   "outputs": [
    {
     "name": "stdout",
     "output_type": "stream",
     "text": [
      "1\n",
      "2\n",
      "3\n",
      "4\n",
      "5\n"
     ]
    }
   ],
   "source": [
    "#initialize count variable to 1\n",
    "count =1\n",
    "\n",
    "while count < 6 :\n",
    "    print (count)\n",
    "    count+=1\n",
    "#the above line means count = count + 1"
   ]
  },
  {
   "cell_type": "code",
   "execution_count": 27,
   "id": "ff42e147",
   "metadata": {},
   "outputs": [
    {
     "name": "stdout",
     "output_type": "stream",
     "text": [
      "1 * 1 = 1\n",
      "1 * 2 = 2\n",
      "2 * 1 = 2\n",
      "2 * 2 = 4\n",
      "3 * 1 = 3\n",
      "3 * 2 = 6\n",
      "4 * 1 = 4\n",
      "4 * 2 = 8\n",
      "5 * 1 = 5\n",
      "5 * 2 = 10\n"
     ]
    }
   ],
   "source": [
    "for g in range(1, 6):\n",
    "    for k in range(1, 3):\n",
    "        #print (\"%d * %d = %d\" % ( g, k, g*k))\n",
    "        print (g,\"*\",k, \"=\" , g*k)"
   ]
  },
  {
   "cell_type": "code",
   "execution_count": 28,
   "id": "1e2d3055",
   "metadata": {},
   "outputs": [
    {
     "name": "stdout",
     "output_type": "stream",
     "text": [
      "1 * 1 = 1\n",
      "1 * 2 = 2\n",
      "2 * 1 = 2\n",
      "2 * 2 = 4\n",
      "3 * 1 = 3\n",
      "3 * 2 = 6\n",
      "4 * 1 = 4\n",
      "4 * 2 = 8\n",
      "5 * 1 = 5\n",
      "5 * 2 = 10\n"
     ]
    }
   ],
   "source": [
    "for g in range(1, 6):\n",
    "    for k in range(1, 3):\n",
    "        print (\"%d * %d = %d\" % ( g, k, g*k))\n",
    "       # print (g,\"*\",k, \"=\" , g*k)"
   ]
  },
  {
   "cell_type": "code",
   "execution_count": 29,
   "id": "7a1d676d",
   "metadata": {},
   "outputs": [
    {
     "name": "stdout",
     "output_type": "stream",
     "text": [
      "0\n",
      "1\n",
      "2\n"
     ]
    }
   ],
   "source": [
    "count = 0\n",
    "\n",
    "while count <= 10:\n",
    "    print (count)\n",
    "    count += 1\n",
    "    if count >= 3:\n",
    "        break"
   ]
  },
  {
   "cell_type": "code",
   "execution_count": 30,
   "id": "4a8deb0f",
   "metadata": {},
   "outputs": [
    {
     "name": "stdout",
     "output_type": "stream",
     "text": [
      "1\n",
      "3\n",
      "5\n",
      "7\n",
      "9\n"
     ]
    }
   ],
   "source": [
    "for x in range(10):\n",
    "   #check whether x is even\n",
    "   if x % 2 == 0:\n",
    "        continue\n",
    "   print (x)"
   ]
  },
  {
   "cell_type": "markdown",
   "id": "4343e2eb",
   "metadata": {},
   "source": [
    "### Printing individual character of String"
   ]
  },
  {
   "cell_type": "code",
   "execution_count": 31,
   "id": "92f04a38",
   "metadata": {},
   "outputs": [
    {
     "name": "stdout",
     "output_type": "stream",
     "text": [
      "Current letter is: T\n",
      "Current letter is: u\n",
      "Current letter is: t\n",
      "Current letter is: o\n",
      "Current letter is: r\n",
      "Current letter is: i\n",
      "Current letter is: a\n",
      "Current letter is: l\n",
      "Current letter is: s\n",
      "Pass block\n",
      "Current letter is: C\n",
      "Current letter is: l\n",
      "Current letter is: o\n",
      "Current letter is: u\n",
      "Current letter is: d\n"
     ]
    }
   ],
   "source": [
    "for letter in 'TutorialsCloud': \n",
    "   if letter == 'C':\n",
    "      pass\n",
    "      print ('Pass block')\n",
    "   print ('Current letter is:', letter)"
   ]
  },
  {
   "cell_type": "code",
   "execution_count": 32,
   "id": "633f5092",
   "metadata": {},
   "outputs": [
    {
     "name": "stdout",
     "output_type": "stream",
     "text": [
      "Enter a number: 4\n",
      "The factorial of 4 is 24\n"
     ]
    }
   ],
   "source": [
    "#Taking user input\n",
    "n = int(input(\"Enter a number: \"))\n",
    "\n",
    "factorial = 1\n",
    "\n",
    "if n < 0: #Check if the number is negative\n",
    "   print(\"Factors do not exist for negative numbers.\")\n",
    "elif n == 0: #Check if the number is zero\n",
    "   print(\"The factorial of 0 is 1.\")\n",
    "else:\n",
    "   for i in range(1,n + 1):\n",
    "       factorial = factorial*i\n",
    "   print(\"The factorial of\",n,\"is\",factorial)"
   ]
  },
  {
   "cell_type": "code",
   "execution_count": 33,
   "id": "8e477a3b",
   "metadata": {},
   "outputs": [
    {
     "name": "stdout",
     "output_type": "stream",
     "text": [
      "Enter a number:3\n",
      "The sum of the natural numbers is: 6\n"
     ]
    }
   ],
   "source": [
    "#Taking user input\n",
    "num = int(input('Enter a number:'))\n",
    "\n",
    "if num < 0:\n",
    "   num = input('Please enter a positive number:')\n",
    "else:\n",
    "   sum = 0\n",
    "   #Loop to iterate till zero\n",
    "   while(num > 0):\n",
    "       sum += num\n",
    "       num -= 1\n",
    "    \n",
    "   print(\"The sum of the natural numbers is:\", sum)"
   ]
  },
  {
   "cell_type": "code",
   "execution_count": 34,
   "id": "59b14af9",
   "metadata": {},
   "outputs": [
    {
     "name": "stdout",
     "output_type": "stream",
     "text": [
      "counter =  1\n",
      "counter =  2\n",
      "counter =  3\n",
      "counter =  4\n",
      "counter =  5\n",
      "counter =  6\n",
      "counter =  7\n",
      "counter =  8\n",
      "counter =  9\n",
      "counter =  10\n",
      "counter =  11\n",
      "counter =  12\n",
      "counter =  13\n",
      "counter =  14\n",
      "counter =  15\n",
      "counter =  16\n",
      "counter =  17\n",
      "counter =  18\n",
      "counter =  19\n",
      "counter =  20\n",
      "counter =  21\n",
      "counter =  22\n",
      "counter =  23\n",
      "counter =  24\n"
     ]
    }
   ],
   "source": [
    "counter = 0;\n",
    "\n",
    "for i in range(8): \n",
    "   for j in range(3):\n",
    "      counter+=1;\n",
    "      print (\"counter = \", counter)"
   ]
  },
  {
   "cell_type": "code",
   "execution_count": null,
   "id": "5413dbf1",
   "metadata": {},
   "outputs": [],
   "source": []
  },
  {
   "cell_type": "code",
   "execution_count": 35,
   "id": "8c9a8e8b",
   "metadata": {},
   "outputs": [
    {
     "name": "stdout",
     "output_type": "stream",
     "text": [
      "* * * * * * * * * * * * * * * \n",
      "* * * * * * * * * * * * * * * \n",
      "* * * * * * * * * * * * * * * \n",
      "* * * * * * * * * * * * * * * \n",
      "* * * * * * * * * * * * * * * \n",
      "* * * * * * * * * * * * * * * \n",
      "* * * * * * * * * * * * * * * \n",
      "* * * * * * * * * * * * * * * \n",
      "* * * * * * * * * * * * * * * \n",
      "* * * * * * * * * * * * * * * \n"
     ]
    }
   ],
   "source": [
    "for i in range(10):\n",
    "   for j in range(15):\n",
    "      print ('*',end =\" \")\n",
    "   print ('')"
   ]
  },
  {
   "cell_type": "code",
   "execution_count": 36,
   "id": "0301d37b",
   "metadata": {},
   "outputs": [
    {
     "name": "stdout",
     "output_type": "stream",
     "text": [
      "\n",
      "* \n",
      "* * \n",
      "* * * \n",
      "* * * * \n",
      "* * * * * \n",
      "* * * * * * \n",
      "* * * * * * * \n",
      "* * * * * * * * \n",
      "* * * * * * * * * \n"
     ]
    }
   ],
   "source": [
    "for i in range(10):\n",
    "   for j in range(i):\n",
    "      print ('*',end =\" \")\n",
    "   print ('')"
   ]
  },
  {
   "cell_type": "markdown",
   "id": "6de00d02",
   "metadata": {},
   "source": [
    "### Print without newline in Python 3.x without using for loop"
   ]
  },
  {
   "cell_type": "code",
   "execution_count": 37,
   "id": "ed02461b",
   "metadata": {},
   "outputs": [
    {
     "name": "stdout",
     "output_type": "stream",
     "text": [
      "1 2 3 4 5 6\n"
     ]
    }
   ],
   "source": [
    "# Print without newline in Python 3.x without using for loop\n",
    "\n",
    "l=[1,2,3,4,5,6]\n",
    "\n",
    "# using * symbol prints the list\n",
    "# elements in a single line\n",
    "print(*l)\n",
    "\n",
    "#This code is contributed by anuragsingh1022\n"
   ]
  },
  {
   "cell_type": "code",
   "execution_count": 38,
   "id": "ae7ccd2c",
   "metadata": {},
   "outputs": [
    {
     "name": "stdout",
     "output_type": "stream",
     "text": [
      "Ali Bilal Ahmad\n"
     ]
    }
   ],
   "source": [
    "l= ['Ali', 'Bilal', 'Ahmad']\n",
    "print(*l)"
   ]
  },
  {
   "cell_type": "markdown",
   "id": "05e2e33c",
   "metadata": {},
   "source": [
    "#### While with always True"
   ]
  },
  {
   "cell_type": "code",
   "execution_count": 39,
   "id": "c2db32dd",
   "metadata": {},
   "outputs": [
    {
     "name": "stdout",
     "output_type": "stream",
     "text": [
      "Enter the secret word: python\n"
     ]
    }
   ],
   "source": [
    "secret_word = \"python\"\n",
    "counter = 0\n",
    "\n",
    "while True:\n",
    "    word = input(\"Enter the secret word: \").lower()\n",
    "    counter = counter + 1\n",
    "    if word == secret_word:\n",
    "        break\n",
    "    if word != secret_word and counter > 7: \n",
    "        break"
   ]
  },
  {
   "cell_type": "code",
   "execution_count": 40,
   "id": "d8920110",
   "metadata": {},
   "outputs": [
    {
     "name": "stdout",
     "output_type": "stream",
     "text": [
      "Number is 0!\n",
      "Number is 1!\n",
      "Number is 2!\n",
      "Number is 3!\n",
      "Number is 4!\n",
      "Number is 5!\n",
      "Number is 6!\n",
      "Number is 7!\n",
      "Number is 8!\n",
      "Number is 9!\n"
     ]
    }
   ],
   "source": [
    "number = 0\n",
    "while number < 10:\n",
    "    print(f\"Number is {number}!\")\n",
    "    number = number + 1"
   ]
  },
  {
   "cell_type": "markdown",
   "id": "9f91d1c3",
   "metadata": {},
   "source": [
    "### Python program to demonstrate the use of formatting using %"
   ]
  },
  {
   "cell_type": "code",
   "execution_count": 41,
   "id": "41b582b3",
   "metadata": {},
   "outputs": [
    {
     "name": "stdout",
     "output_type": "stream",
     "text": [
      "Variable as string = 15\n",
      "Variable as raw data = '15'\n",
      "Variable as integer = 15\n",
      "Variable as float = 15.000000\n",
      "Variable as printing with special char = \u000f\n",
      "Variable as hexadecimal = f\n",
      "Variable as octal = 17\n"
     ]
    }
   ],
   "source": [
    "# Python program to demonstrate the use of formatting using %\n",
    "\n",
    "# Initialize variable as a string\n",
    "variable = '15'\n",
    "string = \"Variable as string = %s\" %(variable)\n",
    "print (string )\n",
    "\n",
    "# Printing as raw data\n",
    "# Thanks to Himanshu Pant for this\n",
    "print (\"Variable as raw data = %r\" %(variable))\n",
    "\n",
    "# Convert the variable to integer\n",
    "# And perform check other formatting options\n",
    "\n",
    "variable = int(variable) # Without this the below statement\n",
    "\t\t\t\t\t\t# will give error.\n",
    "string = \"Variable as integer = %d\" %(variable)\n",
    "print (string)\n",
    "print (\"Variable as float = %f\" %(variable))\n",
    "\n",
    "# printing as any string or char after a mark\n",
    "# here i use mayank as a string\n",
    "print (\"Variable as printing with special char = %c\" %(variable))\n",
    "\n",
    "print (\"Variable as hexadecimal = %x\" %(variable))\n",
    "print (\"Variable as octal = %o\" %(variable))\n"
   ]
  },
  {
   "cell_type": "code",
   "execution_count": 42,
   "id": "01fce4c8",
   "metadata": {},
   "outputs": [
    {
     "name": "stdout",
     "output_type": "stream",
     "text": [
      "Peter is 23 years old\n",
      "Peter is 23 years old\n",
      "Peter is 23 years old\n"
     ]
    }
   ],
   "source": [
    "name = 'Peter'\n",
    "age = 23\n",
    "\n",
    "print('%s is %d years old' % (name, age))\n",
    "print('{} is {} years old'.format(name, age))\n",
    "print(f'{name} is {age} years old')"
   ]
  },
  {
   "cell_type": "markdown",
   "id": "06225385",
   "metadata": {},
   "source": [
    "### adding spaces using %"
   ]
  },
  {
   "cell_type": "code",
   "execution_count": 43,
   "id": "c21c5d9c",
   "metadata": {},
   "outputs": [
    {
     "name": "stdout",
     "output_type": "stream",
     "text": [
      "1        abc        xyz         20\n"
     ]
    }
   ],
   "source": [
    "# Print the table headings.\n",
    "number='abc'\n",
    "square = 'xyz'\n",
    "age = 20\n",
    "#print ('%15s %20s' % ('Number', 'Square'))\n",
    "print (\"1\",'%10s %10s %10d' % (number, square,age))\n"
   ]
  },
  {
   "cell_type": "code",
   "execution_count": null,
   "id": "d4bbf3c5",
   "metadata": {},
   "outputs": [],
   "source": []
  }
 ],
 "metadata": {
  "kernelspec": {
   "display_name": "Python 3 (ipykernel)",
   "language": "python",
   "name": "python3"
  },
  "language_info": {
   "codemirror_mode": {
    "name": "ipython",
    "version": 3
   },
   "file_extension": ".py",
   "mimetype": "text/x-python",
   "name": "python",
   "nbconvert_exporter": "python",
   "pygments_lexer": "ipython3",
   "version": "3.9.7"
  }
 },
 "nbformat": 4,
 "nbformat_minor": 5
}
